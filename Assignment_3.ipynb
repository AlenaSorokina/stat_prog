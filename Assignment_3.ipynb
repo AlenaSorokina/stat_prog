{
  "nbformat": 4,
  "nbformat_minor": 0,
  "metadata": {
    "colab": {
      "name": "Assignment 3.ipynb",
      "version": "0.3.2",
      "provenance": [],
      "collapsed_sections": []
    },
    "kernelspec": {
      "display_name": "Python 3",
      "language": "python",
      "name": "python3"
    }
  },
  "cells": [
    {
      "metadata": {
        "id": "-WpT5QJyxn1Z",
        "colab_type": "text"
      },
      "cell_type": "markdown",
      "source": [
        "# Assignment 3 - More Pandas\n",
        "This assignment requires more individual learning than the last one did - you are encouraged to check out the [pandas documentation](http://pandas.pydata.org/pandas-docs/stable/) to find functions or methods you might not have used yet, or ask questions on [Stack Overflow](http://stackoverflow.com/) and tag them as pandas and python related."
      ]
    },
    {
      "metadata": {
        "id": "tZItWMi8xn1e",
        "colab_type": "text"
      },
      "cell_type": "markdown",
      "source": [
        "### Question 1\n",
        "Load the energy data from the file `Energy Indicators.xls`, which is a list of indicators of [energy supply and renewable electricity production](Energy%20Indicators.xls) from the [United Nations](http://unstats.un.org/unsd/environment/excel_file_tables/2013/Energy%20Indicators.xls) for the year 2013, and should be put into a DataFrame with the variable name of **energy**.\n",
        "\n",
        "Keep in mind that this is an Excel file, and not a comma separated values file. Also, make sure to exclude the footer and header information from the datafile. The first two columns are unneccessary, so you should get rid of them, and you should change the column labels so that the columns are:\n",
        "\n",
        "`['Country', 'Energy Supply', 'Energy Supply per Capita', '% Renewable']`\n",
        "\n",
        "Convert `Energy Supply` to gigajoules (there are 1,000,000 gigajoules in a petajoule). For all countries which have missing data (e.g. data with \"...\") make sure this is reflected as `np.NaN` values.\n",
        "\n",
        "Rename the following list of countries (for use in later questions):\n",
        "\n",
        "```\"Republic of Korea\": \"South Korea\",\n",
        "\"United States of America\": \"United States\",\n",
        "\"United Kingdom of Great Britain and Northern Ireland\": \"United Kingdom\",\n",
        "\"China, Hong Kong Special Administrative Region\": \"Hong Kong\"```\n",
        "\n",
        "There are also several countries with numbers and/or parenthesis in their name. Be sure to remove these, \n",
        "\n",
        "e.g. \n",
        "\n",
        "`'Bolivia (Plurinational State of)'` should be `'Bolivia'`, \n",
        "\n",
        "`'Switzerland17'` should be `'Switzerland'`.\n",
        "\n",
        "<br>\n",
        "\n",
        "Next, load the GDP data from the file `world_bank.csv`, which is a csv containing countries' GDP from 1960 to 2015 from [World Bank](http://data.worldbank.org/indicator/NY.GDP.MKTP.CD). Call this DataFrame **GDP**. \n",
        "\n",
        "Make sure to skip the header, and rename the following list of countries:\n",
        "\n",
        "```\"Korea, Rep.\": \"South Korea\", \n",
        "\"Iran, Islamic Rep.\": \"Iran\",\n",
        "\"Hong Kong SAR, China\": \"Hong Kong\"```\n",
        "\n",
        "<br>\n",
        "\n",
        "Finally, load the [Sciamgo Journal and Country Rank data for Energy Engineering and Power Technology](http://www.scimagojr.com/countryrank.php?category=2102) from the file `scimagojr-3.xlsx`, which ranks countries based on their journal contributions in the aforementioned area. Call this DataFrame **ScimEn**.\n",
        "\n",
        "Join the three datasets: GDP, Energy, and ScimEn into a new dataset (using the intersection of country names). Use only the last 10 years (2006-2015) of GDP data and only the top 15 countries by Scimagojr 'Rank' (Rank 1 through 15). \n",
        "\n",
        "The index of this DataFrame should be the name of the country, and the columns should be ['Rank', 'Documents', 'Citable documents', 'Citations', 'Self-citations',\n",
        "       'Citations per document', 'H index', 'Energy Supply',\n",
        "       'Energy Supply per Capita', '% Renewable', '2006', '2007', '2008',\n",
        "       '2009', '2010', '2011', '2012', '2013', '2014', '2015'].\n",
        "\n",
        "*This function should return a DataFrame with 20 columns and 15 entries.*"
      ]
    },
    {
      "metadata": {
        "id": "Oy-JsUkZAmpO",
        "colab_type": "code",
        "colab": {}
      },
      "cell_type": "code",
      "source": [
        ""
      ],
      "execution_count": 0,
      "outputs": []
    },
    {
      "metadata": {
        "id": "vyMve2_dxn1h",
        "colab_type": "code",
        "colab": {}
      },
      "cell_type": "code",
      "source": [
        "import pandas as pd\n",
        "import numpy as np\n",
        "def answer_one():\n",
        "    return \"ANSWER\""
      ],
      "execution_count": 0,
      "outputs": []
    },
    {
      "metadata": {
        "id": "q_4SG8kc1sNg",
        "colab_type": "code",
        "outputId": "630fe996-ab94-4663-d1a7-1dd0f7cecedc",
        "colab": {
          "base_uri": "https://localhost:8080/",
          "height": 671
        }
      },
      "cell_type": "code",
      "source": [
        "def answer_one():\n",
        "    energy = pd.read_excel(\"Energy Indicators.xls\", sheet_name=\"Energy\")[16:243]\n",
        "    energy.drop(columns=['Unnamed: 0', 'Unnamed: 1'], inplace=True)\n",
        "    energy.columns = ['Country', 'Energy Supply', 'Energy Supply per Capita', '% Renewable']\n",
        "    energy.replace('...', np.nan, inplace=True)\n",
        "    energy['Energy Supply'] *= 1000000\n",
        "    energy['Country'] = energy['Country'].str.replace('\\d+', '')\n",
        "    energy['Country'] = energy['Country'].str.replace(' \\(.+\\)', '')\n",
        "    energy.set_index('Country', inplace=True)\n",
        "    energy.rename(index = {\"Republic of Korea\": \"South Korea\",\n",
        "                          \"United States of America\": \"United States\",\n",
        "                          \"United Kingdom of Great Britain and Northern Ireland\": \"United Kingdom\",\n",
        "                          \"China, Hong Kong Special Administrative Region\": \"Hong Kong\"}, \n",
        "                  inplace = True)\n",
        "    \n",
        "    GDP = pd.read_csv(\"world_bank.csv\", skiprows=4)\n",
        "    GDP.set_index('Country Name', inplace=True)\n",
        "    GDP.index.names = ['Country']\n",
        "    GDP.drop(columns = ['Country Code'])\n",
        "    GDP.rename(index = {\"Korea, Rep.\": \"South Korea\", \n",
        "                        \"Iran, Islamic Rep.\": \"Iran\",\n",
        "                        \"Hong Kong SAR, China\": \"Hong Kong\"}, inplace=True)\n",
        "    \n",
        "    ScimEn = pd.read_excel(\"scimagojr-3.xlsx\", sheet_name=\"Sheet1\")\n",
        "    ScimEn.set_index('Country', inplace=True)\n",
        "    \n",
        "    GDP_filt = GDP.drop(columns=[str(year) for year in range(1960, 2006)])\n",
        "    ScimEn_filt = ScimEn.head(15)\n",
        "    \n",
        "    GDP_and_scimen = pd.merge(GDP_filt, ScimEn_filt, how='inner', left_index=True, right_index=True)\n",
        "    all_three = pd.merge(energy, GDP_and_scimen, how='inner', left_index=True, right_index=True)\n",
        "    \n",
        "    cols = ['Rank', 'Documents', 'Citable documents', 'Citations', 'Self-citations', 'Citations per document', 'H index', 'Energy Supply', 'Energy Supply per Capita', '% Renewable', '2006', '2007', '2008', '2009', '2010', '2011', '2012', '2013', '2014', '2015']\n",
        "    \n",
        "    return all_three[cols]\n",
        "\n",
        "answer_one()"
      ],
      "execution_count": 0,
      "outputs": [
        {
          "output_type": "execute_result",
          "data": {
            "text/html": [
              "<div>\n",
              "<style scoped>\n",
              "    .dataframe tbody tr th:only-of-type {\n",
              "        vertical-align: middle;\n",
              "    }\n",
              "\n",
              "    .dataframe tbody tr th {\n",
              "        vertical-align: top;\n",
              "    }\n",
              "\n",
              "    .dataframe thead th {\n",
              "        text-align: right;\n",
              "    }\n",
              "</style>\n",
              "<table border=\"1\" class=\"dataframe\">\n",
              "  <thead>\n",
              "    <tr style=\"text-align: right;\">\n",
              "      <th></th>\n",
              "      <th>Rank</th>\n",
              "      <th>Documents</th>\n",
              "      <th>Citable documents</th>\n",
              "      <th>Citations</th>\n",
              "      <th>Self-citations</th>\n",
              "      <th>Citations per document</th>\n",
              "      <th>H index</th>\n",
              "      <th>Energy Supply</th>\n",
              "      <th>Energy Supply per Capita</th>\n",
              "      <th>% Renewable</th>\n",
              "      <th>2006</th>\n",
              "      <th>2007</th>\n",
              "      <th>2008</th>\n",
              "      <th>2009</th>\n",
              "      <th>2010</th>\n",
              "      <th>2011</th>\n",
              "      <th>2012</th>\n",
              "      <th>2013</th>\n",
              "      <th>2014</th>\n",
              "      <th>2015</th>\n",
              "    </tr>\n",
              "    <tr>\n",
              "      <th>Country</th>\n",
              "      <th></th>\n",
              "      <th></th>\n",
              "      <th></th>\n",
              "      <th></th>\n",
              "      <th></th>\n",
              "      <th></th>\n",
              "      <th></th>\n",
              "      <th></th>\n",
              "      <th></th>\n",
              "      <th></th>\n",
              "      <th></th>\n",
              "      <th></th>\n",
              "      <th></th>\n",
              "      <th></th>\n",
              "      <th></th>\n",
              "      <th></th>\n",
              "      <th></th>\n",
              "      <th></th>\n",
              "      <th></th>\n",
              "      <th></th>\n",
              "    </tr>\n",
              "  </thead>\n",
              "  <tbody>\n",
              "    <tr>\n",
              "      <th>Australia</th>\n",
              "      <td>14</td>\n",
              "      <td>8831</td>\n",
              "      <td>8725</td>\n",
              "      <td>90765</td>\n",
              "      <td>15606</td>\n",
              "      <td>10.28</td>\n",
              "      <td>107</td>\n",
              "      <td>5.386000e+09</td>\n",
              "      <td>231.0</td>\n",
              "      <td>11.810810</td>\n",
              "      <td>1.021939e+12</td>\n",
              "      <td>1.060340e+12</td>\n",
              "      <td>1.099644e+12</td>\n",
              "      <td>1.119654e+12</td>\n",
              "      <td>1.142251e+12</td>\n",
              "      <td>1.169431e+12</td>\n",
              "      <td>1.211913e+12</td>\n",
              "      <td>1.241484e+12</td>\n",
              "      <td>1.272520e+12</td>\n",
              "      <td>1.301251e+12</td>\n",
              "    </tr>\n",
              "    <tr>\n",
              "      <th>Brazil</th>\n",
              "      <td>15</td>\n",
              "      <td>8668</td>\n",
              "      <td>8596</td>\n",
              "      <td>60702</td>\n",
              "      <td>14396</td>\n",
              "      <td>7.00</td>\n",
              "      <td>86</td>\n",
              "      <td>1.214900e+10</td>\n",
              "      <td>59.0</td>\n",
              "      <td>69.648030</td>\n",
              "      <td>1.845080e+12</td>\n",
              "      <td>1.957118e+12</td>\n",
              "      <td>2.056809e+12</td>\n",
              "      <td>2.054215e+12</td>\n",
              "      <td>2.208872e+12</td>\n",
              "      <td>2.295245e+12</td>\n",
              "      <td>2.339209e+12</td>\n",
              "      <td>2.409740e+12</td>\n",
              "      <td>2.412231e+12</td>\n",
              "      <td>2.319423e+12</td>\n",
              "    </tr>\n",
              "    <tr>\n",
              "      <th>Canada</th>\n",
              "      <td>6</td>\n",
              "      <td>17899</td>\n",
              "      <td>17620</td>\n",
              "      <td>215003</td>\n",
              "      <td>40930</td>\n",
              "      <td>12.01</td>\n",
              "      <td>149</td>\n",
              "      <td>1.043100e+10</td>\n",
              "      <td>296.0</td>\n",
              "      <td>61.945430</td>\n",
              "      <td>1.564469e+12</td>\n",
              "      <td>1.596740e+12</td>\n",
              "      <td>1.612713e+12</td>\n",
              "      <td>1.565145e+12</td>\n",
              "      <td>1.613406e+12</td>\n",
              "      <td>1.664087e+12</td>\n",
              "      <td>1.693133e+12</td>\n",
              "      <td>1.730688e+12</td>\n",
              "      <td>1.773486e+12</td>\n",
              "      <td>1.792609e+12</td>\n",
              "    </tr>\n",
              "    <tr>\n",
              "      <th>China</th>\n",
              "      <td>1</td>\n",
              "      <td>127050</td>\n",
              "      <td>126767</td>\n",
              "      <td>597237</td>\n",
              "      <td>411683</td>\n",
              "      <td>4.70</td>\n",
              "      <td>138</td>\n",
              "      <td>1.271910e+11</td>\n",
              "      <td>93.0</td>\n",
              "      <td>19.754910</td>\n",
              "      <td>3.992331e+12</td>\n",
              "      <td>4.559041e+12</td>\n",
              "      <td>4.997775e+12</td>\n",
              "      <td>5.459247e+12</td>\n",
              "      <td>6.039659e+12</td>\n",
              "      <td>6.612490e+12</td>\n",
              "      <td>7.124978e+12</td>\n",
              "      <td>7.672448e+12</td>\n",
              "      <td>8.230121e+12</td>\n",
              "      <td>8.797999e+12</td>\n",
              "    </tr>\n",
              "    <tr>\n",
              "      <th>France</th>\n",
              "      <td>9</td>\n",
              "      <td>13153</td>\n",
              "      <td>12973</td>\n",
              "      <td>130632</td>\n",
              "      <td>28601</td>\n",
              "      <td>9.93</td>\n",
              "      <td>114</td>\n",
              "      <td>1.059700e+10</td>\n",
              "      <td>166.0</td>\n",
              "      <td>17.020280</td>\n",
              "      <td>2.607840e+12</td>\n",
              "      <td>2.669424e+12</td>\n",
              "      <td>2.674637e+12</td>\n",
              "      <td>2.595967e+12</td>\n",
              "      <td>2.646995e+12</td>\n",
              "      <td>2.702032e+12</td>\n",
              "      <td>2.706968e+12</td>\n",
              "      <td>2.722567e+12</td>\n",
              "      <td>2.729632e+12</td>\n",
              "      <td>2.761185e+12</td>\n",
              "    </tr>\n",
              "    <tr>\n",
              "      <th>Germany</th>\n",
              "      <td>7</td>\n",
              "      <td>17027</td>\n",
              "      <td>16831</td>\n",
              "      <td>140566</td>\n",
              "      <td>27426</td>\n",
              "      <td>8.26</td>\n",
              "      <td>126</td>\n",
              "      <td>1.326100e+10</td>\n",
              "      <td>165.0</td>\n",
              "      <td>17.901530</td>\n",
              "      <td>3.332891e+12</td>\n",
              "      <td>3.441561e+12</td>\n",
              "      <td>3.478809e+12</td>\n",
              "      <td>3.283340e+12</td>\n",
              "      <td>3.417298e+12</td>\n",
              "      <td>3.542371e+12</td>\n",
              "      <td>3.556724e+12</td>\n",
              "      <td>3.567317e+12</td>\n",
              "      <td>3.624386e+12</td>\n",
              "      <td>3.685556e+12</td>\n",
              "    </tr>\n",
              "    <tr>\n",
              "      <th>India</th>\n",
              "      <td>8</td>\n",
              "      <td>15005</td>\n",
              "      <td>14841</td>\n",
              "      <td>128763</td>\n",
              "      <td>37209</td>\n",
              "      <td>8.58</td>\n",
              "      <td>115</td>\n",
              "      <td>3.319500e+10</td>\n",
              "      <td>26.0</td>\n",
              "      <td>14.969080</td>\n",
              "      <td>1.265894e+12</td>\n",
              "      <td>1.374865e+12</td>\n",
              "      <td>1.428361e+12</td>\n",
              "      <td>1.549483e+12</td>\n",
              "      <td>1.708459e+12</td>\n",
              "      <td>1.821872e+12</td>\n",
              "      <td>1.924235e+12</td>\n",
              "      <td>2.051982e+12</td>\n",
              "      <td>2.200617e+12</td>\n",
              "      <td>2.367206e+12</td>\n",
              "    </tr>\n",
              "    <tr>\n",
              "      <th>Iran</th>\n",
              "      <td>13</td>\n",
              "      <td>8896</td>\n",
              "      <td>8819</td>\n",
              "      <td>57470</td>\n",
              "      <td>19125</td>\n",
              "      <td>6.46</td>\n",
              "      <td>72</td>\n",
              "      <td>9.172000e+09</td>\n",
              "      <td>119.0</td>\n",
              "      <td>5.707721</td>\n",
              "      <td>3.895523e+11</td>\n",
              "      <td>4.250646e+11</td>\n",
              "      <td>4.289909e+11</td>\n",
              "      <td>4.389208e+11</td>\n",
              "      <td>4.677902e+11</td>\n",
              "      <td>4.853309e+11</td>\n",
              "      <td>4.532569e+11</td>\n",
              "      <td>4.445926e+11</td>\n",
              "      <td>4.639027e+11</td>\n",
              "      <td>NaN</td>\n",
              "    </tr>\n",
              "    <tr>\n",
              "      <th>Italy</th>\n",
              "      <td>11</td>\n",
              "      <td>10964</td>\n",
              "      <td>10794</td>\n",
              "      <td>111850</td>\n",
              "      <td>26661</td>\n",
              "      <td>10.20</td>\n",
              "      <td>106</td>\n",
              "      <td>6.530000e+09</td>\n",
              "      <td>109.0</td>\n",
              "      <td>33.667230</td>\n",
              "      <td>2.202170e+12</td>\n",
              "      <td>2.234627e+12</td>\n",
              "      <td>2.211154e+12</td>\n",
              "      <td>2.089938e+12</td>\n",
              "      <td>2.125185e+12</td>\n",
              "      <td>2.137439e+12</td>\n",
              "      <td>2.077184e+12</td>\n",
              "      <td>2.040871e+12</td>\n",
              "      <td>2.033868e+12</td>\n",
              "      <td>2.049316e+12</td>\n",
              "    </tr>\n",
              "    <tr>\n",
              "      <th>Japan</th>\n",
              "      <td>3</td>\n",
              "      <td>30504</td>\n",
              "      <td>30287</td>\n",
              "      <td>223024</td>\n",
              "      <td>61554</td>\n",
              "      <td>7.31</td>\n",
              "      <td>134</td>\n",
              "      <td>1.898400e+10</td>\n",
              "      <td>149.0</td>\n",
              "      <td>10.232820</td>\n",
              "      <td>5.496542e+12</td>\n",
              "      <td>5.617036e+12</td>\n",
              "      <td>5.558527e+12</td>\n",
              "      <td>5.251308e+12</td>\n",
              "      <td>5.498718e+12</td>\n",
              "      <td>5.473738e+12</td>\n",
              "      <td>5.569102e+12</td>\n",
              "      <td>5.644659e+12</td>\n",
              "      <td>5.642884e+12</td>\n",
              "      <td>5.669563e+12</td>\n",
              "    </tr>\n",
              "    <tr>\n",
              "      <th>South Korea</th>\n",
              "      <td>10</td>\n",
              "      <td>11983</td>\n",
              "      <td>11923</td>\n",
              "      <td>114675</td>\n",
              "      <td>22595</td>\n",
              "      <td>9.57</td>\n",
              "      <td>104</td>\n",
              "      <td>1.100700e+10</td>\n",
              "      <td>221.0</td>\n",
              "      <td>2.279353</td>\n",
              "      <td>9.410199e+11</td>\n",
              "      <td>9.924316e+11</td>\n",
              "      <td>1.020510e+12</td>\n",
              "      <td>1.027730e+12</td>\n",
              "      <td>1.094499e+12</td>\n",
              "      <td>1.134796e+12</td>\n",
              "      <td>1.160809e+12</td>\n",
              "      <td>1.194429e+12</td>\n",
              "      <td>1.234340e+12</td>\n",
              "      <td>1.266580e+12</td>\n",
              "    </tr>\n",
              "    <tr>\n",
              "      <th>Russian Federation</th>\n",
              "      <td>5</td>\n",
              "      <td>18534</td>\n",
              "      <td>18301</td>\n",
              "      <td>34266</td>\n",
              "      <td>12422</td>\n",
              "      <td>1.85</td>\n",
              "      <td>57</td>\n",
              "      <td>3.070900e+10</td>\n",
              "      <td>214.0</td>\n",
              "      <td>17.288680</td>\n",
              "      <td>1.385793e+12</td>\n",
              "      <td>1.504071e+12</td>\n",
              "      <td>1.583004e+12</td>\n",
              "      <td>1.459199e+12</td>\n",
              "      <td>1.524917e+12</td>\n",
              "      <td>1.589943e+12</td>\n",
              "      <td>1.645876e+12</td>\n",
              "      <td>1.666934e+12</td>\n",
              "      <td>1.678709e+12</td>\n",
              "      <td>1.616149e+12</td>\n",
              "    </tr>\n",
              "    <tr>\n",
              "      <th>Spain</th>\n",
              "      <td>12</td>\n",
              "      <td>9428</td>\n",
              "      <td>9330</td>\n",
              "      <td>123336</td>\n",
              "      <td>23964</td>\n",
              "      <td>13.08</td>\n",
              "      <td>115</td>\n",
              "      <td>4.923000e+09</td>\n",
              "      <td>106.0</td>\n",
              "      <td>37.968590</td>\n",
              "      <td>1.414823e+12</td>\n",
              "      <td>1.468146e+12</td>\n",
              "      <td>1.484530e+12</td>\n",
              "      <td>1.431475e+12</td>\n",
              "      <td>1.431673e+12</td>\n",
              "      <td>1.417355e+12</td>\n",
              "      <td>1.380216e+12</td>\n",
              "      <td>1.357139e+12</td>\n",
              "      <td>1.375605e+12</td>\n",
              "      <td>1.419821e+12</td>\n",
              "    </tr>\n",
              "    <tr>\n",
              "      <th>United Kingdom</th>\n",
              "      <td>4</td>\n",
              "      <td>20944</td>\n",
              "      <td>20357</td>\n",
              "      <td>206091</td>\n",
              "      <td>37874</td>\n",
              "      <td>9.84</td>\n",
              "      <td>139</td>\n",
              "      <td>7.920000e+09</td>\n",
              "      <td>124.0</td>\n",
              "      <td>10.600470</td>\n",
              "      <td>2.419631e+12</td>\n",
              "      <td>2.482203e+12</td>\n",
              "      <td>2.470614e+12</td>\n",
              "      <td>2.367048e+12</td>\n",
              "      <td>2.403504e+12</td>\n",
              "      <td>2.450911e+12</td>\n",
              "      <td>2.479809e+12</td>\n",
              "      <td>2.533370e+12</td>\n",
              "      <td>2.605643e+12</td>\n",
              "      <td>2.666333e+12</td>\n",
              "    </tr>\n",
              "    <tr>\n",
              "      <th>United States</th>\n",
              "      <td>2</td>\n",
              "      <td>96661</td>\n",
              "      <td>94747</td>\n",
              "      <td>792274</td>\n",
              "      <td>265436</td>\n",
              "      <td>8.20</td>\n",
              "      <td>230</td>\n",
              "      <td>9.083800e+10</td>\n",
              "      <td>286.0</td>\n",
              "      <td>11.570980</td>\n",
              "      <td>1.479230e+13</td>\n",
              "      <td>1.505540e+13</td>\n",
              "      <td>1.501149e+13</td>\n",
              "      <td>1.459484e+13</td>\n",
              "      <td>1.496437e+13</td>\n",
              "      <td>1.520402e+13</td>\n",
              "      <td>1.554216e+13</td>\n",
              "      <td>1.577367e+13</td>\n",
              "      <td>1.615662e+13</td>\n",
              "      <td>1.654857e+13</td>\n",
              "    </tr>\n",
              "  </tbody>\n",
              "</table>\n",
              "</div>"
            ],
            "text/plain": [
              "                    Rank  Documents  Citable documents  Citations  \\\n",
              "Country                                                             \n",
              "Australia             14       8831               8725      90765   \n",
              "Brazil                15       8668               8596      60702   \n",
              "Canada                 6      17899              17620     215003   \n",
              "China                  1     127050             126767     597237   \n",
              "France                 9      13153              12973     130632   \n",
              "Germany                7      17027              16831     140566   \n",
              "India                  8      15005              14841     128763   \n",
              "Iran                  13       8896               8819      57470   \n",
              "Italy                 11      10964              10794     111850   \n",
              "Japan                  3      30504              30287     223024   \n",
              "South Korea           10      11983              11923     114675   \n",
              "Russian Federation     5      18534              18301      34266   \n",
              "Spain                 12       9428               9330     123336   \n",
              "United Kingdom         4      20944              20357     206091   \n",
              "United States          2      96661              94747     792274   \n",
              "\n",
              "                    Self-citations  Citations per document  H index  \\\n",
              "Country                                                               \n",
              "Australia                    15606                   10.28      107   \n",
              "Brazil                       14396                    7.00       86   \n",
              "Canada                       40930                   12.01      149   \n",
              "China                       411683                    4.70      138   \n",
              "France                       28601                    9.93      114   \n",
              "Germany                      27426                    8.26      126   \n",
              "India                        37209                    8.58      115   \n",
              "Iran                         19125                    6.46       72   \n",
              "Italy                        26661                   10.20      106   \n",
              "Japan                        61554                    7.31      134   \n",
              "South Korea                  22595                    9.57      104   \n",
              "Russian Federation           12422                    1.85       57   \n",
              "Spain                        23964                   13.08      115   \n",
              "United Kingdom               37874                    9.84      139   \n",
              "United States               265436                    8.20      230   \n",
              "\n",
              "                    Energy Supply  Energy Supply per Capita  % Renewable  \\\n",
              "Country                                                                    \n",
              "Australia            5.386000e+09                     231.0    11.810810   \n",
              "Brazil               1.214900e+10                      59.0    69.648030   \n",
              "Canada               1.043100e+10                     296.0    61.945430   \n",
              "China                1.271910e+11                      93.0    19.754910   \n",
              "France               1.059700e+10                     166.0    17.020280   \n",
              "Germany              1.326100e+10                     165.0    17.901530   \n",
              "India                3.319500e+10                      26.0    14.969080   \n",
              "Iran                 9.172000e+09                     119.0     5.707721   \n",
              "Italy                6.530000e+09                     109.0    33.667230   \n",
              "Japan                1.898400e+10                     149.0    10.232820   \n",
              "South Korea          1.100700e+10                     221.0     2.279353   \n",
              "Russian Federation   3.070900e+10                     214.0    17.288680   \n",
              "Spain                4.923000e+09                     106.0    37.968590   \n",
              "United Kingdom       7.920000e+09                     124.0    10.600470   \n",
              "United States        9.083800e+10                     286.0    11.570980   \n",
              "\n",
              "                            2006          2007          2008          2009  \\\n",
              "Country                                                                      \n",
              "Australia           1.021939e+12  1.060340e+12  1.099644e+12  1.119654e+12   \n",
              "Brazil              1.845080e+12  1.957118e+12  2.056809e+12  2.054215e+12   \n",
              "Canada              1.564469e+12  1.596740e+12  1.612713e+12  1.565145e+12   \n",
              "China               3.992331e+12  4.559041e+12  4.997775e+12  5.459247e+12   \n",
              "France              2.607840e+12  2.669424e+12  2.674637e+12  2.595967e+12   \n",
              "Germany             3.332891e+12  3.441561e+12  3.478809e+12  3.283340e+12   \n",
              "India               1.265894e+12  1.374865e+12  1.428361e+12  1.549483e+12   \n",
              "Iran                3.895523e+11  4.250646e+11  4.289909e+11  4.389208e+11   \n",
              "Italy               2.202170e+12  2.234627e+12  2.211154e+12  2.089938e+12   \n",
              "Japan               5.496542e+12  5.617036e+12  5.558527e+12  5.251308e+12   \n",
              "South Korea         9.410199e+11  9.924316e+11  1.020510e+12  1.027730e+12   \n",
              "Russian Federation  1.385793e+12  1.504071e+12  1.583004e+12  1.459199e+12   \n",
              "Spain               1.414823e+12  1.468146e+12  1.484530e+12  1.431475e+12   \n",
              "United Kingdom      2.419631e+12  2.482203e+12  2.470614e+12  2.367048e+12   \n",
              "United States       1.479230e+13  1.505540e+13  1.501149e+13  1.459484e+13   \n",
              "\n",
              "                            2010          2011          2012          2013  \\\n",
              "Country                                                                      \n",
              "Australia           1.142251e+12  1.169431e+12  1.211913e+12  1.241484e+12   \n",
              "Brazil              2.208872e+12  2.295245e+12  2.339209e+12  2.409740e+12   \n",
              "Canada              1.613406e+12  1.664087e+12  1.693133e+12  1.730688e+12   \n",
              "China               6.039659e+12  6.612490e+12  7.124978e+12  7.672448e+12   \n",
              "France              2.646995e+12  2.702032e+12  2.706968e+12  2.722567e+12   \n",
              "Germany             3.417298e+12  3.542371e+12  3.556724e+12  3.567317e+12   \n",
              "India               1.708459e+12  1.821872e+12  1.924235e+12  2.051982e+12   \n",
              "Iran                4.677902e+11  4.853309e+11  4.532569e+11  4.445926e+11   \n",
              "Italy               2.125185e+12  2.137439e+12  2.077184e+12  2.040871e+12   \n",
              "Japan               5.498718e+12  5.473738e+12  5.569102e+12  5.644659e+12   \n",
              "South Korea         1.094499e+12  1.134796e+12  1.160809e+12  1.194429e+12   \n",
              "Russian Federation  1.524917e+12  1.589943e+12  1.645876e+12  1.666934e+12   \n",
              "Spain               1.431673e+12  1.417355e+12  1.380216e+12  1.357139e+12   \n",
              "United Kingdom      2.403504e+12  2.450911e+12  2.479809e+12  2.533370e+12   \n",
              "United States       1.496437e+13  1.520402e+13  1.554216e+13  1.577367e+13   \n",
              "\n",
              "                            2014          2015  \n",
              "Country                                         \n",
              "Australia           1.272520e+12  1.301251e+12  \n",
              "Brazil              2.412231e+12  2.319423e+12  \n",
              "Canada              1.773486e+12  1.792609e+12  \n",
              "China               8.230121e+12  8.797999e+12  \n",
              "France              2.729632e+12  2.761185e+12  \n",
              "Germany             3.624386e+12  3.685556e+12  \n",
              "India               2.200617e+12  2.367206e+12  \n",
              "Iran                4.639027e+11           NaN  \n",
              "Italy               2.033868e+12  2.049316e+12  \n",
              "Japan               5.642884e+12  5.669563e+12  \n",
              "South Korea         1.234340e+12  1.266580e+12  \n",
              "Russian Federation  1.678709e+12  1.616149e+12  \n",
              "Spain               1.375605e+12  1.419821e+12  \n",
              "United Kingdom      2.605643e+12  2.666333e+12  \n",
              "United States       1.615662e+13  1.654857e+13  "
            ]
          },
          "metadata": {
            "tags": []
          },
          "execution_count": 3
        }
      ]
    },
    {
      "metadata": {
        "id": "m2jFFPuXxn1v",
        "colab_type": "text"
      },
      "cell_type": "markdown",
      "source": [
        "### Question 2\n",
        "The previous question joined three datasets then reduced this to just the top 15 entries. When you joined the datasets, but before you reduced this to the top 15 items, how many entries did you lose?\n",
        "\n",
        "*This function should return a single number.*"
      ]
    },
    {
      "metadata": {
        "id": "pd2CFvlAxn1y",
        "colab_type": "code",
        "outputId": "e4c39893-9cc9-408f-de0e-e22734ab2e24",
        "colab": {
          "base_uri": "https://localhost:8080/",
          "height": 320
        }
      },
      "cell_type": "code",
      "source": [
        "%%HTML\n",
        "<svg width=\"800\" height=\"300\">\n",
        "  <circle cx=\"150\" cy=\"180\" r=\"80\" fill-opacity=\"0.2\" stroke=\"black\" stroke-width=\"2\" fill=\"blue\" />\n",
        "  <circle cx=\"200\" cy=\"100\" r=\"80\" fill-opacity=\"0.2\" stroke=\"black\" stroke-width=\"2\" fill=\"red\" />\n",
        "  <circle cx=\"100\" cy=\"100\" r=\"80\" fill-opacity=\"0.2\" stroke=\"black\" stroke-width=\"2\" fill=\"green\" />\n",
        "  <line x1=\"150\" y1=\"125\" x2=\"300\" y2=\"150\" stroke=\"black\" stroke-width=\"2\" fill=\"black\" stroke-dasharray=\"5,3\"/>\n",
        "  <text  x=\"300\" y=\"165\" font-family=\"Verdana\" font-size=\"35\">Everything but this!</text>\n",
        "</svg>"
      ],
      "execution_count": 0,
      "outputs": [
        {
          "output_type": "display_data",
          "data": {
            "text/html": [
              "<svg width=\"800\" height=\"300\">\n",
              "  <circle cx=\"150\" cy=\"180\" r=\"80\" fill-opacity=\"0.2\" stroke=\"black\" stroke-width=\"2\" fill=\"blue\" />\n",
              "  <circle cx=\"200\" cy=\"100\" r=\"80\" fill-opacity=\"0.2\" stroke=\"black\" stroke-width=\"2\" fill=\"red\" />\n",
              "  <circle cx=\"100\" cy=\"100\" r=\"80\" fill-opacity=\"0.2\" stroke=\"black\" stroke-width=\"2\" fill=\"green\" />\n",
              "  <line x1=\"150\" y1=\"125\" x2=\"300\" y2=\"150\" stroke=\"black\" stroke-width=\"2\" fill=\"black\" stroke-dasharray=\"5,3\"/>\n",
              "  <text  x=\"300\" y=\"165\" font-family=\"Verdana\" font-size=\"35\">Everything but this!</text>\n",
              "</svg>"
            ],
            "text/plain": [
              "<IPython.core.display.HTML object>"
            ]
          },
          "metadata": {
            "tags": []
          }
        }
      ]
    },
    {
      "metadata": {
        "id": "IrRqNaI2xn1-",
        "colab_type": "code",
        "outputId": "057550c2-afe9-48bf-d005-3f681b03a252",
        "colab": {
          "base_uri": "https://localhost:8080/",
          "height": 34
        }
      },
      "cell_type": "code",
      "source": [
        "def answer_two():\n",
        "  a = answer_one()\n",
        "  return len(a)-15\n",
        "\n",
        "answer_two()"
      ],
      "execution_count": 0,
      "outputs": [
        {
          "output_type": "execute_result",
          "data": {
            "text/plain": [
              "147"
            ]
          },
          "metadata": {
            "tags": []
          },
          "execution_count": 12
        }
      ]
    },
    {
      "metadata": {
        "id": "3UxGI1c7xn2H",
        "colab_type": "text"
      },
      "cell_type": "markdown",
      "source": [
        "<br>\n",
        "\n",
        "Answer the following questions in the context of only the top 15 countries by Scimagojr Rank (aka the DataFrame returned by `answer_one()`)"
      ]
    },
    {
      "metadata": {
        "id": "ZNnUBsJyxn2L",
        "colab_type": "text"
      },
      "cell_type": "markdown",
      "source": [
        "### Question 3\n",
        "What is the average GDP over the last 10 years for each country? (exclude missing values from this calculation.)\n",
        "\n",
        "*This function should return a Series named `avgGDP` with 15 countries and their average GDP sorted in descending order.*"
      ]
    },
    {
      "metadata": {
        "scrolled": true,
        "id": "hd3M_x7Cxn2P",
        "colab_type": "code",
        "outputId": "44b9ead7-30fa-400a-cb20-a2aa7fd8f375",
        "colab": {
          "base_uri": "https://localhost:8080/",
          "height": 316
        }
      },
      "cell_type": "code",
      "source": [
        "def answer_three():\n",
        "    Top15 = answer_one()\n",
        "    Top15['avg'] = Top15[['2006', '2007', '2008', '2009', '2010', '2011', '2012', '2013', '2014', '2015']].mean(axis=1)\n",
        "    avgGDP = pd.Series(Top15['avg']).sort_values(ascending=False)\n",
        "    return avgGDP\n",
        "answer_three()"
      ],
      "execution_count": 0,
      "outputs": [
        {
          "output_type": "execute_result",
          "data": {
            "text/plain": [
              "Country\n",
              "United States         1.536434e+13\n",
              "China                 6.348609e+12\n",
              "Japan                 5.542208e+12\n",
              "Germany               3.493025e+12\n",
              "France                2.681725e+12\n",
              "United Kingdom        2.487907e+12\n",
              "Brazil                2.189794e+12\n",
              "Italy                 2.120175e+12\n",
              "India                 1.769297e+12\n",
              "Canada                1.660647e+12\n",
              "Russian Federation    1.565459e+12\n",
              "Spain                 1.418078e+12\n",
              "Australia             1.164043e+12\n",
              "South Korea           1.106715e+12\n",
              "Iran                  4.441558e+11\n",
              "Name: avg, dtype: float64"
            ]
          },
          "metadata": {
            "tags": []
          },
          "execution_count": 4
        }
      ]
    },
    {
      "metadata": {
        "id": "LnaoBBVvxn2a",
        "colab_type": "text"
      },
      "cell_type": "markdown",
      "source": [
        "### Question 4\n",
        "By how much had the GDP changed over the 10 year span for the country with the 6th largest average GDP?\n",
        "\n",
        "*This function should return a single number.*"
      ]
    },
    {
      "metadata": {
        "scrolled": true,
        "id": "mZrH2qebxn2d",
        "colab_type": "code",
        "outputId": "682f79ec-cd88-41a2-e0e5-5da094d510dd",
        "colab": {
          "base_uri": "https://localhost:8080/",
          "height": 34
        }
      },
      "cell_type": "code",
      "source": [
        "def answer_four():\n",
        "    Top15 = answer_one()\n",
        "    avgGDP=answer_three()\n",
        "    name = avgGDP.index[5]\n",
        "    GDP_ch = Top15.loc[name, '2015']-Top15.loc[name, '2006']\n",
        "    return GDP_ch\n",
        "answer_four()"
      ],
      "execution_count": 0,
      "outputs": [
        {
          "output_type": "execute_result",
          "data": {
            "text/plain": [
              "246702696075.3999"
            ]
          },
          "metadata": {
            "tags": []
          },
          "execution_count": 7
        }
      ]
    },
    {
      "metadata": {
        "id": "kxW7YSUMxn2m",
        "colab_type": "text"
      },
      "cell_type": "markdown",
      "source": [
        "### Question 5\n",
        "What is the mean `Energy Supply per Capita`?\n",
        "\n",
        "*This function should return a single number.*"
      ]
    },
    {
      "metadata": {
        "id": "3Fs0ygawxn2q",
        "colab_type": "code",
        "outputId": "e9f40f9f-0004-4444-e571-72155c6b6bcf",
        "colab": {
          "base_uri": "https://localhost:8080/",
          "height": 34
        }
      },
      "cell_type": "code",
      "source": [
        "def answer_five():\n",
        "    Top15 = answer_one()\n",
        "    avg = Top15['Energy Supply per Capita'].mean()\n",
        "    return avg\n",
        "answer_five()"
      ],
      "execution_count": 0,
      "outputs": [
        {
          "output_type": "execute_result",
          "data": {
            "text/plain": [
              "157.6"
            ]
          },
          "metadata": {
            "tags": []
          },
          "execution_count": 35
        }
      ]
    },
    {
      "metadata": {
        "id": "H589GuQSxn2z",
        "colab_type": "text"
      },
      "cell_type": "markdown",
      "source": [
        "### Question 6\n",
        "What country has the maximum % Renewable and what is the percentage?\n",
        "\n",
        "*This function should return a tuple with the name of the country and the percentage.*"
      ]
    },
    {
      "metadata": {
        "id": "jxI8OzO_xn28",
        "colab_type": "code",
        "outputId": "c19541a6-0456-4d6c-8dc5-ac6a229b0f16",
        "colab": {
          "base_uri": "https://localhost:8080/",
          "height": 34
        }
      },
      "cell_type": "code",
      "source": [
        "def answer_six():\n",
        "    Top15 = answer_one()\n",
        "    percentage = Top15.sort_values(by='% Renewable',ascending = False).iloc[0]\n",
        "    return(percentage.name,percentage['% Renewable'])\n",
        "answer_six()"
      ],
      "execution_count": 0,
      "outputs": [
        {
          "output_type": "execute_result",
          "data": {
            "text/plain": [
              "('Brazil', 69.64803)"
            ]
          },
          "metadata": {
            "tags": []
          },
          "execution_count": 8
        }
      ]
    },
    {
      "metadata": {
        "id": "jz7-lpYvxn3I",
        "colab_type": "text"
      },
      "cell_type": "markdown",
      "source": [
        "### Question 7\n",
        "Create a new column that is the ratio of Self-Citations to Total Citations. \n",
        "What is the maximum value for this new column, and what country has the highest ratio?\n",
        "\n",
        "*This function should return a tuple with the name of the country and the ratio.*"
      ]
    },
    {
      "metadata": {
        "id": "UXZekzs7xn3M",
        "colab_type": "code",
        "outputId": "598d6dc0-33a6-42e9-b9b8-32a56aa3043c",
        "colab": {
          "base_uri": "https://localhost:8080/",
          "height": 34
        }
      },
      "cell_type": "code",
      "source": [
        "def answer_seven():\n",
        "    Top15 = answer_one()\n",
        "    Top15['ratio'] = Top15['Self-citations']/Top15['Citations']\n",
        "    m = Top15.sort_values(by='ratio',ascending = False).iloc[0]\n",
        "    return (m.name,m['ratio'])\n",
        "answer_seven()"
      ],
      "execution_count": 0,
      "outputs": [
        {
          "output_type": "execute_result",
          "data": {
            "text/plain": [
              "('China', 0.6893126179389422)"
            ]
          },
          "metadata": {
            "tags": []
          },
          "execution_count": 10
        }
      ]
    },
    {
      "metadata": {
        "id": "ia4mJYDCxn3U",
        "colab_type": "text"
      },
      "cell_type": "markdown",
      "source": [
        "### Question 8\n",
        "\n",
        "Create a column that estimates the population using Energy Supply and Energy Supply per capita. \n",
        "What is the third most populous country according to this estimate?\n",
        "\n",
        "*This function should return a single string value.*"
      ]
    },
    {
      "metadata": {
        "id": "WvLq5qZoxn3X",
        "colab_type": "code",
        "outputId": "835cf84a-71d2-423d-c0aa-8ae7055583a4",
        "colab": {
          "base_uri": "https://localhost:8080/",
          "height": 34
        }
      },
      "cell_type": "code",
      "source": [
        "def answer_eight():\n",
        "    Top15 = answer_one()\n",
        "    Top15['pop'] = Top15['Energy Supply']/Top15['Energy Supply per Capita']\n",
        "    m = Top15.sort_values(by='pop',ascending = False).iloc[2]\n",
        "    return m.name\n",
        "answer_eight()"
      ],
      "execution_count": 0,
      "outputs": [
        {
          "output_type": "execute_result",
          "data": {
            "text/plain": [
              "'United States'"
            ]
          },
          "metadata": {
            "tags": []
          },
          "execution_count": 12
        }
      ]
    },
    {
      "metadata": {
        "id": "F6_P4d6lxn3f",
        "colab_type": "text"
      },
      "cell_type": "markdown",
      "source": [
        "### Question 9\n",
        "Create a column that estimates the number of citable documents per person. \n",
        "What is the correlation between the number of citable documents per capita and the energy supply per capita? Use the `.corr()` method, (Pearson's correlation).\n",
        "\n",
        "*This function should return a single number.*\n",
        "\n",
        "*(Optional: Use the built-in function `plot9()` to visualize the relationship between Energy Supply per Capita vs. Citable docs per Capita)*"
      ]
    },
    {
      "metadata": {
        "id": "UDAAAgYQxn3j",
        "colab_type": "code",
        "outputId": "ed61d65d-bb84-4380-eab6-756af1d21682",
        "colab": {
          "base_uri": "https://localhost:8080/",
          "height": 34
        }
      },
      "cell_type": "code",
      "source": [
        "def answer_nine():\n",
        "    Top15 = answer_one()\n",
        "    Top15['pop'] = Top15['Energy Supply']/Top15['Energy Supply per Capita']\n",
        "    Top15['cd_per_cap'] = Top15['Citable documents']/Top15['pop']\n",
        "    relation = Top15['cd_per_cap'].corr(Top15['Energy Supply per Capita'])\n",
        "    return (relation)\n",
        "answer_nine()"
      ],
      "execution_count": 0,
      "outputs": [
        {
          "output_type": "execute_result",
          "data": {
            "text/plain": [
              "0.7940010435442942"
            ]
          },
          "metadata": {
            "tags": []
          },
          "execution_count": 14
        }
      ]
    },
    {
      "metadata": {
        "id": "USJaDWCkxn3r",
        "colab_type": "code",
        "colab": {}
      },
      "cell_type": "code",
      "source": [
        "def plot9():\n",
        "    import matplotlib as plt\n",
        "    %matplotlib inline\n",
        "    \n",
        "    Top15 = answer_one()\n",
        "    Top15['PopEst'] = Top15['Energy Supply'] / Top15['Energy Supply per Capita']\n",
        "    Top15['Citable docs per Capita'] = Top15['Citable documents'] / Top15['PopEst']\n",
        "    Top15.plot(x='Citable docs per Capita', y='Energy Supply per Capita', kind='scatter', xlim=[0, 0.0006])"
      ],
      "execution_count": 0,
      "outputs": []
    },
    {
      "metadata": {
        "id": "8aIYNCxFxn3w",
        "colab_type": "code",
        "outputId": "fe57aa16-fcfa-4def-9a87-3ea0193f75b3",
        "colab": {
          "base_uri": "https://localhost:8080/",
          "height": 316
        }
      },
      "cell_type": "code",
      "source": [
        "plot9()"
      ],
      "execution_count": 0,
      "outputs": [
        {
          "output_type": "stream",
          "text": [
            "'c' argument looks like a single numeric RGB or RGBA sequence, which should be avoided as value-mapping will have precedence in case its length matches with 'x' & 'y'.  Please use a 2-D array with a single row if you really want to specify the same RGB or RGBA value for all points.\n"
          ],
          "name": "stderr"
        },
        {
          "output_type": "display_data",
          "data": {
            "image/png": "[encoded data removed]",
            "text/plain": [
              "<Figure size 432x288 with 1 Axes>"
            ]
          },
          "metadata": {
            "tags": []
          }
        }
      ]
    },
    {
      "metadata": {
        "id": "DwyB7oKAxn31",
        "colab_type": "text"
      },
      "cell_type": "markdown",
      "source": [
        "### Question 10\n",
        "Create a new column with a 1 if the country's % Renewable value is at or above the median for all countries in the top 15, and a 0 if the country's % Renewable value is below the median.\n",
        "\n",
        "*This function should return a series named `HighRenew` whose index is the country name sorted in ascending order of rank.*"
      ]
    },
    {
      "metadata": {
        "id": "pWvEr4gGxn32",
        "colab_type": "code",
        "outputId": "0f260bb9-9fdb-41ab-ffa6-1325dd4cc623",
        "colab": {
          "base_uri": "https://localhost:8080/",
          "height": 371
        }
      },
      "cell_type": "code",
      "source": [
        "def answer_ten():\n",
        "    Top15 = answer_one()\n",
        "    med = Top15['% Renewable'].median()\n",
        "    Top15['new']=Top15['% Renewable'].apply(lambda x: 1 if x>=med else 0)\n",
        "    Top15=Top15.sort_index(by='Rank',ascending = True)\n",
        "    HighRenew=pd.Series(Top15['new'])\n",
        "    return HighRenew\n",
        "answer_ten()"
      ],
      "execution_count": 0,
      "outputs": [
        {
          "output_type": "stream",
          "text": [
            "/usr/local/lib/python3.6/dist-packages/ipykernel_launcher.py:5: FutureWarning: by argument to sort_index is deprecated, please use .sort_values(by=...)\n",
            "  \"\"\"\n"
          ],
          "name": "stderr"
        },
        {
          "output_type": "execute_result",
          "data": {
            "text/plain": [
              "Country\n",
              "China                 1\n",
              "United States         0\n",
              "Japan                 0\n",
              "United Kingdom        0\n",
              "Russian Federation    1\n",
              "Canada                1\n",
              "Germany               1\n",
              "India                 0\n",
              "France                1\n",
              "South Korea           0\n",
              "Italy                 1\n",
              "Spain                 1\n",
              "Iran                  0\n",
              "Australia             0\n",
              "Brazil                1\n",
              "Name: new, dtype: int64"
            ]
          },
          "metadata": {
            "tags": []
          },
          "execution_count": 15
        }
      ]
    },
    {
      "metadata": {
        "id": "MVniysV_xn39",
        "colab_type": "text"
      },
      "cell_type": "markdown",
      "source": [
        "### Question 11\n",
        "Use the following dictionary to group the Countries by Continent, then create a dateframe that displays the sample size (the number of countries in each continent bin), and the sum, mean, and std deviation for the estimated population of each country.\n",
        "\n",
        "```python\n",
        "ContinentDict  = {'China':'Asia', \n",
        "                  'United States':'North America', \n",
        "                  'Japan':'Asia', \n",
        "                  'United Kingdom':'Europe', \n",
        "                  'Russian Federation':'Europe', \n",
        "                  'Canada':'North America', \n",
        "                  'Germany':'Europe', \n",
        "                  'India':'Asia',\n",
        "                  'France':'Europe', \n",
        "                  'South Korea':'Asia', \n",
        "                  'Italy':'Europe', \n",
        "                  'Spain':'Europe', \n",
        "                  'Iran':'Asia',\n",
        "                  'Australia':'Australia', \n",
        "                  'Brazil':'South America'}\n",
        "```\n",
        "\n",
        "*This function should return a DataFrame with index named Continent `['Asia', 'Australia', 'Europe', 'North America', 'South America']` and columns `['size', 'sum', 'mean', 'std']`*"
      ]
    },
    {
      "metadata": {
        "id": "-0JEqGwCzMYB",
        "colab_type": "code",
        "outputId": "d99441ef-5aab-40b7-fa29-f8f584dc9c6c",
        "colab": {
          "base_uri": "https://localhost:8080/",
          "height": 260
        }
      },
      "cell_type": "code",
      "source": [
        "def answer_eleven():\n",
        "    df = answer_one()\n",
        "    df['population']=df['Energy Supply']/df['Energy Supply per Capita']\n",
        "    ContinentDict = {'China':'Asia', 'United States':'North America', 'Japan':'Asia', 'United Kingdom':'Europe', 'Russian Federation':'Europe', 'Canada':'North America',\n",
        " 'Germany':'Europe',\n",
        " 'India':'Asia',\n",
        " 'France':'Europe',\n",
        " 'South Korea':'Asia',\n",
        " 'Italy':'Europe',\n",
        " 'Spain':'Europe',\n",
        " 'Iran':'Asia',\n",
        " 'Australia':'Australia',\n",
        " 'Brazil':'South America'}\n",
        "    df.rename(index=ContinentDict,inplace=True)\n",
        "    df.reset_index(inplace = True)\n",
        "    functions = ['size', 'sum', 'mean', 'std']\n",
        "    result = df[['Country','population']].groupby('Country').agg(functions)\n",
        "    return(result)\n",
        "answer_eleven()"
      ],
      "execution_count": 0,
      "outputs": [
        {
          "output_type": "execute_result",
          "data": {
            "text/html": [
              "<div>\n",
              "<style scoped>\n",
              "    .dataframe tbody tr th:only-of-type {\n",
              "        vertical-align: middle;\n",
              "    }\n",
              "\n",
              "    .dataframe tbody tr th {\n",
              "        vertical-align: top;\n",
              "    }\n",
              "\n",
              "    .dataframe thead tr th {\n",
              "        text-align: left;\n",
              "    }\n",
              "\n",
              "    .dataframe thead tr:last-of-type th {\n",
              "        text-align: right;\n",
              "    }\n",
              "</style>\n",
              "<table border=\"1\" class=\"dataframe\">\n",
              "  <thead>\n",
              "    <tr>\n",
              "      <th></th>\n",
              "      <th colspan=\"4\" halign=\"left\">population</th>\n",
              "    </tr>\n",
              "    <tr>\n",
              "      <th></th>\n",
              "      <th>size</th>\n",
              "      <th>sum</th>\n",
              "      <th>mean</th>\n",
              "      <th>std</th>\n",
              "    </tr>\n",
              "    <tr>\n",
              "      <th>Country</th>\n",
              "      <th></th>\n",
              "      <th></th>\n",
              "      <th></th>\n",
              "      <th></th>\n",
              "    </tr>\n",
              "  </thead>\n",
              "  <tbody>\n",
              "    <tr>\n",
              "      <th>Asia</th>\n",
              "      <td>5</td>\n",
              "      <td>2.898666e+09</td>\n",
              "      <td>5.797333e+08</td>\n",
              "      <td>6.790979e+08</td>\n",
              "    </tr>\n",
              "    <tr>\n",
              "      <th>Australia</th>\n",
              "      <td>1</td>\n",
              "      <td>2.331602e+07</td>\n",
              "      <td>2.331602e+07</td>\n",
              "      <td>NaN</td>\n",
              "    </tr>\n",
              "    <tr>\n",
              "      <th>Europe</th>\n",
              "      <td>6</td>\n",
              "      <td>4.579297e+08</td>\n",
              "      <td>7.632161e+07</td>\n",
              "      <td>3.464767e+07</td>\n",
              "    </tr>\n",
              "    <tr>\n",
              "      <th>North America</th>\n",
              "      <td>2</td>\n",
              "      <td>3.528552e+08</td>\n",
              "      <td>1.764276e+08</td>\n",
              "      <td>1.996696e+08</td>\n",
              "    </tr>\n",
              "    <tr>\n",
              "      <th>South America</th>\n",
              "      <td>1</td>\n",
              "      <td>2.059153e+08</td>\n",
              "      <td>2.059153e+08</td>\n",
              "      <td>NaN</td>\n",
              "    </tr>\n",
              "  </tbody>\n",
              "</table>\n",
              "</div>"
            ],
            "text/plain": [
              "              population                                          \n",
              "                    size           sum          mean           std\n",
              "Country                                                           \n",
              "Asia                   5  2.898666e+09  5.797333e+08  6.790979e+08\n",
              "Australia              1  2.331602e+07  2.331602e+07           NaN\n",
              "Europe                 6  4.579297e+08  7.632161e+07  3.464767e+07\n",
              "North America          2  3.528552e+08  1.764276e+08  1.996696e+08\n",
              "South America          1  2.059153e+08  2.059153e+08           NaN"
            ]
          },
          "metadata": {
            "tags": []
          },
          "execution_count": 21
        }
      ]
    },
    {
      "metadata": {
        "id": "seXa8f2Kxn4K",
        "colab_type": "text"
      },
      "cell_type": "markdown",
      "source": [
        "### Question 12\n",
        "Cut % Renewable into 5 bins. Group Top15 by the Continent, as well as these new % Renewable bins. How many countries are in each of these groups?\n",
        "\n",
        "*This function should return a __Series__ with a MultiIndex of `Continent`, then the bins for `% Renewable`. Do not include groups with no countries.*"
      ]
    },
    {
      "metadata": {
        "scrolled": true,
        "id": "wYGkIVXOxn4N",
        "colab_type": "code",
        "colab": {}
      },
      "cell_type": "code",
      "source": [
        "def answer_twelve():\n",
        "    Top15 = answer_one()\n",
        "    return \"ANSWER\""
      ],
      "execution_count": 0,
      "outputs": []
    },
    {
      "metadata": {
        "id": "Dz4fZ64hxn4Q",
        "colab_type": "text"
      },
      "cell_type": "markdown",
      "source": [
        "### Question 13\n",
        "Convert the Population Estimate series to a string with thousands separator (using commas). Do not round the results.\n",
        "\n",
        "e.g. 317615384.61538464 -> 317,615,384.61538464\n",
        "\n",
        "*This function should return a Series `PopEst` whose index is the country name and whose values are the population estimate string.*"
      ]
    },
    {
      "metadata": {
        "scrolled": true,
        "id": "L6fiBM1Txn4S",
        "colab_type": "code",
        "outputId": "a7e52459-3502-4344-864f-caec22908766",
        "colab": {
          "base_uri": "https://localhost:8080/",
          "height": 316
        }
      },
      "cell_type": "code",
      "source": [
        "def answer_thirteen():\n",
        "    Top15 = answer_one()\n",
        "    Top15['pop'] = Top15['Energy Supply']/Top15['Energy Supply per Capita']\n",
        "    PopEst = pd.Series(Top15['pop'].map('{:,.2f}'.format))\n",
        "    return PopEst\n",
        "answer_thirteen()"
      ],
      "execution_count": 0,
      "outputs": [
        {
          "output_type": "execute_result",
          "data": {
            "text/plain": [
              "Country\n",
              "Australia                23,316,017.32\n",
              "Brazil                  205,915,254.24\n",
              "Canada                   35,239,864.86\n",
              "China                 1,367,645,161.29\n",
              "France                   63,837,349.40\n",
              "Germany                  80,369,696.97\n",
              "India                 1,276,730,769.23\n",
              "Iran                     77,075,630.25\n",
              "Italy                    59,908,256.88\n",
              "Japan                   127,409,395.97\n",
              "South Korea              49,805,429.86\n",
              "Russian Federation      143,500,000.00\n",
              "Spain                    46,443,396.23\n",
              "United Kingdom           63,870,967.74\n",
              "United States           317,615,384.62\n",
              "Name: pop, dtype: object"
            ]
          },
          "metadata": {
            "tags": []
          },
          "execution_count": 83
        }
      ]
    },
    {
      "metadata": {
        "id": "GeZ6H5Ylxn4U",
        "colab_type": "text"
      },
      "cell_type": "markdown",
      "source": [
        "### Optional\n",
        "\n",
        "Use the built in function `plot_optional()` to see an example visualization."
      ]
    },
    {
      "metadata": {
        "scrolled": true,
        "id": "tXLY4Aylxn4W",
        "colab_type": "code",
        "colab": {}
      },
      "cell_type": "code",
      "source": [
        "def plot_optional():\n",
        "    import matplotlib as plt\n",
        "    %matplotlib inline\n",
        "    Top15 = answer_one()\n",
        "    ax = Top15.plot(x='Rank', y='% Renewable', kind='scatter', \n",
        "                    c=['#e41a1c','#377eb8','#e41a1c','#4daf4a','#4daf4a','#377eb8','#4daf4a','#e41a1c',\n",
        "                       '#4daf4a','#e41a1c','#4daf4a','#4daf4a','#e41a1c','#dede00','#ff7f00'], \n",
        "                    xticks=range(1,16), s=6*Top15['2014']/10**10, alpha=.75, figsize=[16,6]);\n",
        "\n",
        "    for i, txt in enumerate(Top15.index):\n",
        "        ax.annotate(txt, [Top15['Rank'][i], Top15['% Renewable'][i]], ha='center')\n",
        "\n",
        "    print(\"This is an example of a visualization that can be created to help understand the data. \\\n",
        "This is a bubble chart showing % Renewable vs. Rank. The size of the bubble corresponds to the countries' \\\n",
        "2014 GDP, and the color corresponds to the continent.\")"
      ],
      "execution_count": 0,
      "outputs": []
    },
    {
      "metadata": {
        "id": "VEb4Ibz6xn4Y",
        "colab_type": "code",
        "outputId": "7a8dbf9f-6ba6-4f85-a35c-f170e69c0157",
        "colab": {
          "base_uri": "https://localhost:8080/",
          "height": 425
        }
      },
      "cell_type": "code",
      "source": [
        "plot_optional()"
      ],
      "execution_count": 0,
      "outputs": [
        {
          "output_type": "stream",
          "text": [
            "This is an example of a visualization that can be created to help understand the data. This is a bubble chart showing % Renewable vs. Rank. The size of the bubble corresponds to the countries' 2014 GDP, and the color corresponds to the continent.\n"
          ],
          "name": "stdout"
        },
        {
          "output_type": "display_data",
          "data": {
            "image/png": "[encoded data removed]",
            "text/plain": [
              "<Figure size 1152x432 with 1 Axes>"
            ]
          },
          "metadata": {
            "tags": []
          }
        }
      ]
    }
  ]
}